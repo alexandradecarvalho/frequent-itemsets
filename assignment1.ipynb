{
 "cells": [
  {
   "cell_type": "code",
   "execution_count": 1,
   "metadata": {},
   "outputs": [],
   "source": [
    "from pyspark import SparkContext\n",
    "from itertools import combinations"
   ]
  },
  {
   "cell_type": "code",
   "execution_count": 2,
   "metadata": {},
   "outputs": [
    {
     "name": "stderr",
     "output_type": "stream",
     "text": [
      "22/04/09 20:53:54 WARN Utils: Your hostname, jarvis resolves to a loopback address: 127.0.1.1; using 192.168.1.7 instead (on interface wlp4s0)\n",
      "22/04/09 20:53:54 WARN Utils: Set SPARK_LOCAL_IP if you need to bind to another address\n",
      "Using Spark's default log4j profile: org/apache/spark/log4j-defaults.properties\n",
      "Setting default log level to \"WARN\".\n",
      "To adjust logging level use sc.setLogLevel(newLevel). For SparkR, use setLogLevel(newLevel).\n",
      "22/04/09 20:54:05 WARN NativeCodeLoader: Unable to load native-hadoop library for your platform... using builtin-java classes where applicable\n"
     ]
    }
   ],
   "source": [
    "sc = SparkContext(appName=\"Assignment1\")"
   ]
  },
  {
   "cell_type": "markdown",
   "metadata": {},
   "source": [
    "## Ex 1.1"
   ]
  },
  {
   "cell_type": "markdown",
   "metadata": {},
   "source": [
    "### Import the Dataset "
   ]
  },
  {
   "cell_type": "code",
   "execution_count": 3,
   "metadata": {},
   "outputs": [
    {
     "name": "stderr",
     "output_type": "stream",
     "text": [
      "                                                                                \r"
     ]
    }
   ],
   "source": [
    "data = sc.textFile('dataset/conditions.csv')            # reading the dataset\n",
    "header = data.first()                                   # first line is the header\n",
    "data = data.filter(lambda line: line != header)\\\n",
    "    .map(lambda line: line.split(\",\"))\\\n",
    "    .map(lambda line: (line[2], {line[-2]}))\\\n",
    "    .reduceByKey(lambda code1, code2: code1 | code2)\n",
    "\n",
    "    # take the header off the list of rows\n",
    "    # split each row by the cells\n",
    "    # get only the patient number and the {condition code}\n",
    "    # group the conditions of every patient in a set "
   ]
  },
  {
   "cell_type": "code",
   "execution_count": 4,
   "metadata": {},
   "outputs": [
    {
     "name": "stderr",
     "output_type": "stream",
     "text": [
      "                                                                                \r"
     ]
    },
    {
     "data": {
      "text/plain": [
       "[('3826037f-19e0-4c7b-98e5-4e9578472f67',\n",
       "  {'162864005', '24079001', '55822004', '65966004'}),\n",
       " ('8bfe7590-c750-405d-9699-07218f203475',\n",
       "  {'198992004',\n",
       "   '284549007',\n",
       "   '43878008',\n",
       "   '44465007',\n",
       "   '444814009',\n",
       "   '446096008',\n",
       "   '53741008',\n",
       "   '72892002'})]"
      ]
     },
     "execution_count": 4,
     "metadata": {},
     "output_type": "execute_result"
    }
   ],
   "source": [
    "data.take(2)"
   ]
  },
  {
   "cell_type": "markdown",
   "metadata": {},
   "source": [
    "### First Pass"
   ]
  },
  {
   "cell_type": "code",
   "execution_count": 5,
   "metadata": {},
   "outputs": [],
   "source": [
    "counts = data\\\n",
    "        .flatMap(lambda patient: patient[1])\\\n",
    "        .map(lambda condition: (condition,1))\\\n",
    "        .reduceByKey(lambda count1, count2: count1 + count2)\n",
    "\n",
    "        # get a list of condition codes\n",
    "        # (condition, 1)\n",
    "        # (condition, count)"
   ]
  },
  {
   "cell_type": "code",
   "execution_count": 6,
   "metadata": {},
   "outputs": [
    {
     "name": "stderr",
     "output_type": "stream",
     "text": [
      "                                                                                \r"
     ]
    },
    {
     "data": {
      "text/plain": [
       "[('444814009', 751940),\n",
       " ('195662009', 524692),\n",
       " ('10509002', 461495),\n",
       " ('162864005', 365567),\n",
       " ('271737000', 355372),\n",
       " ('15777000', 354315),\n",
       " ('59621000', 305134),\n",
       " ('40055000', 250239),\n",
       " ('72892002', 205390),\n",
       " ('19169002', 201894)]"
      ]
     },
     "execution_count": 6,
     "metadata": {},
     "output_type": "execute_result"
    }
   ],
   "source": [
    "counts.sortBy(lambda x:x[1], ascending=False).take(10)"
   ]
  },
  {
   "cell_type": "markdown",
   "metadata": {},
   "source": [
    "### Frequent Items"
   ]
  },
  {
   "cell_type": "code",
   "execution_count": 7,
   "metadata": {},
   "outputs": [],
   "source": [
    "support_threshold = 1000\n",
    "frequent_items = counts\\\n",
    "                .filter(lambda condition: condition[1]  >= support_threshold)\\\n",
    "                .map(lambda condition: condition[0])\n",
    "\n",
    "                # from (condition, count) only leave the ones with a count of at least 1000\n",
    "                # get a list of the frequent condition codes "
   ]
  },
  {
   "cell_type": "code",
   "execution_count": 8,
   "metadata": {},
   "outputs": [
    {
     "data": {
      "text/plain": [
       "['363406005',\n",
       " '443165006',\n",
       " '368581000119106',\n",
       " '40275004',\n",
       " '239720000',\n",
       " '44465007',\n",
       " '283371005',\n",
       " '156073000',\n",
       " '230265002']"
      ]
     },
     "execution_count": 8,
     "metadata": {},
     "output_type": "execute_result"
    }
   ],
   "source": [
    "f_items = frequent_items.collect()  # get a list out of the rdd above\n",
    "f_items[1:10]"
   ]
  },
  {
   "cell_type": "code",
   "execution_count": 9,
   "metadata": {},
   "outputs": [],
   "source": [
    "frequent_data = data\\\n",
    "            .map(lambda basket: (basket[0], {code for code in basket[1] if code in f_items}))   # list of (patient number, {frequent condition set})"
   ]
  },
  {
   "cell_type": "markdown",
   "metadata": {},
   "source": [
    "### Second Pass"
   ]
  },
  {
   "cell_type": "code",
   "execution_count": 10,
   "metadata": {},
   "outputs": [],
   "source": [
    "k = 2"
   ]
  },
  {
   "cell_type": "code",
   "execution_count": 11,
   "metadata": {},
   "outputs": [],
   "source": [
    "candidate_pairs = frequent_data\\\n",
    "                .map(lambda basket: (basket[0], {i for i in combinations(basket[1],k)}))    # get a list of (patient number, {candidate frequent pairs})"
   ]
  },
  {
   "cell_type": "code",
   "execution_count": 12,
   "metadata": {},
   "outputs": [
    {
     "data": {
      "text/plain": [
       "('3826037f-19e0-4c7b-98e5-4e9578472f67',\n",
       " {('162864005', '24079001'),\n",
       "  ('55822004', '162864005'),\n",
       "  ('55822004', '24079001'),\n",
       "  ('65966004', '162864005'),\n",
       "  ('65966004', '24079001'),\n",
       "  ('65966004', '55822004')})"
      ]
     },
     "execution_count": 12,
     "metadata": {},
     "output_type": "execute_result"
    }
   ],
   "source": [
    "candidate_pairs.first()"
   ]
  },
  {
   "cell_type": "code",
   "execution_count": 13,
   "metadata": {},
   "outputs": [],
   "source": [
    "counts2 = candidate_pairs\\\n",
    "        .flatMap(lambda patient: patient[1])\\\n",
    "        .map(lambda condition: (condition,1))\\\n",
    "        .reduceByKey(lambda count1, count2: count1 + count2)\n",
    "        \n",
    "        # list of candidate frequent pairs\n",
    "        # ((frequent pair), 1)\n",
    "        # ((frequent pair), count)"
   ]
  },
  {
   "cell_type": "code",
   "execution_count": 14,
   "metadata": {},
   "outputs": [
    {
     "name": "stderr",
     "output_type": "stream",
     "text": [
      "                                                                                \r"
     ]
    },
    {
     "data": {
      "text/plain": [
       "[('15777000', '271737000'),\n",
       " ('444814009', '195662009'),\n",
       " ('444814009', '162864005'),\n",
       " ('10509002', '444814009'),\n",
       " ('15777000', '444814009'),\n",
       " ('271737000', '444814009'),\n",
       " ('59621000', '444814009'),\n",
       " ('10509002', '195662009'),\n",
       " ('40055000', '444814009'),\n",
       " ('271737000', '195662009')]"
      ]
     },
     "execution_count": 14,
     "metadata": {},
     "output_type": "execute_result"
    }
   ],
   "source": [
    "counts2.sortBy(lambda tuplet: tuplet[1], ascending=False).map(lambda tuplet: tuplet[0]).take(10)"
   ]
  },
  {
   "cell_type": "markdown",
   "metadata": {},
   "source": [
    "### Third Pass"
   ]
  },
  {
   "cell_type": "code",
   "execution_count": 15,
   "metadata": {},
   "outputs": [],
   "source": [
    "k = 3"
   ]
  },
  {
   "cell_type": "code",
   "execution_count": 16,
   "metadata": {},
   "outputs": [],
   "source": [
    "candidate_triples = frequent_data\\\n",
    "                .map(lambda basket: (basket[0], {i for i in combinations(basket[1],k)}))    # get a list of (patient number, {candidate frequent triples})"
   ]
  },
  {
   "cell_type": "code",
   "execution_count": 17,
   "metadata": {},
   "outputs": [
    {
     "data": {
      "text/plain": [
       "('3826037f-19e0-4c7b-98e5-4e9578472f67',\n",
       " {('55822004', '162864005', '24079001'),\n",
       "  ('65966004', '162864005', '24079001'),\n",
       "  ('65966004', '55822004', '162864005'),\n",
       "  ('65966004', '55822004', '24079001')})"
      ]
     },
     "execution_count": 17,
     "metadata": {},
     "output_type": "execute_result"
    }
   ],
   "source": [
    "candidate_triples.first()"
   ]
  },
  {
   "cell_type": "code",
   "execution_count": 18,
   "metadata": {},
   "outputs": [],
   "source": [
    "counts3 = candidate_pairs\\\n",
    "        .flatMap(lambda patient: patient[1])\\\n",
    "        .map(lambda condition: (condition,1))\\\n",
    "        .reduceByKey(lambda count1, count2: count1 + count2)\n",
    "        \n",
    "        # list of candidate frequent triples\n",
    "        # ((frequent triple), 1)\n",
    "        # ((frequent triple), count)"
   ]
  },
  {
   "cell_type": "code",
   "execution_count": 19,
   "metadata": {},
   "outputs": [
    {
     "name": "stderr",
     "output_type": "stream",
     "text": [
      "                                                                                \r"
     ]
    },
    {
     "data": {
      "text/plain": [
       "[('15777000', '271737000', '444814009'),\n",
       " ('15777000', '271737000', '195662009'),\n",
       " ('10509002', '444814009', '195662009'),\n",
       " ('15777000', '444814009', '195662009'),\n",
       " ('271737000', '444814009', '195662009'),\n",
       " ('444814009', '162864005', '195662009'),\n",
       " ('15777000', '10509002', '271737000'),\n",
       " ('10509002', '444814009', '162864005'),\n",
       " ('15777000', '10509002', '444814009'),\n",
       " ('59621000', '444814009', '195662009')]"
      ]
     },
     "execution_count": 19,
     "metadata": {},
     "output_type": "execute_result"
    }
   ],
   "source": [
    "counts3.sortBy(lambda triplet: triplet[1], ascending=False).map(lambda triplet: triplet[0]).take(10)"
   ]
  },
  {
   "cell_type": "code",
   "execution_count": 20,
   "metadata": {},
   "outputs": [
    {
     "name": "stderr",
     "output_type": "stream",
     "text": [
      "                                                                                \r"
     ]
    },
    {
     "name": "stdout",
     "output_type": "stream",
     "text": [
      "[('15777000', '271737000'), ('444814009', '195662009'), ('444814009', '162864005'), ('10509002', '444814009'), ('15777000', '444814009'), ('271737000', '444814009'), ('59621000', '444814009'), ('10509002', '195662009'), ('40055000', '444814009'), ('271737000', '195662009')]\n"
     ]
    },
    {
     "name": "stderr",
     "output_type": "stream",
     "text": [
      "[Stage 65:==================================================>     (29 + 3) / 32]\r"
     ]
    },
    {
     "name": "stdout",
     "output_type": "stream",
     "text": [
      "[('15777000', '271737000', '444814009'), ('15777000', '271737000', '195662009'), ('10509002', '444814009', '195662009'), ('15777000', '444814009', '195662009'), ('271737000', '444814009', '195662009'), ('444814009', '162864005', '195662009'), ('15777000', '10509002', '271737000'), ('10509002', '444814009', '162864005'), ('15777000', '10509002', '444814009'), ('59621000', '444814009', '195662009')]\n"
     ]
    },
    {
     "name": "stderr",
     "output_type": "stream",
     "text": [
      "                                                                                \r"
     ]
    }
   ],
   "source": [
    "max_k = 3\n",
    "support_threshold = 1000\n",
    "\n",
    "for k in range(1,max_k + 1):  \n",
    "    \n",
    "    if k == 1:\n",
    "        counts = data.flatMap(lambda patient: patient[1]).map(lambda condition: (condition,1)).reduceByKey(lambda count1, count2: count1 + count2)\n",
    "        frequent_items = counts.filter(lambda condition: condition[1]  >= support_threshold).map(lambda condition: condition[0]).collect()\n",
    "        data = data.map(lambda basket: (basket[0], {code for code in basket[1] if code in f_items}))\n",
    "\n",
    "    else:\n",
    "        candidate_pairs = data.map(lambda basket: (basket[0], {i for i in combinations(basket[1],k)}))\n",
    "        print(candidate_pairs.flatMap(lambda patient: patient[1]).map(lambda condition: (condition,1)).reduceByKey(lambda count1, count2: count1 + count2).sortBy(lambda triplet: triplet[1], ascending=False).map(lambda triplet: triplet[0]).take(10))\n",
    "\n",
    "    k += 1"
   ]
  },
  {
   "cell_type": "markdown",
   "metadata": {},
   "source": [
    "# Ex 1.2"
   ]
  },
  {
   "cell_type": "code",
   "execution_count": null,
   "metadata": {},
   "outputs": [],
   "source": []
  }
 ],
 "metadata": {
  "interpreter": {
   "hash": "916dbcbb3f70747c44a77c7bcd40155683ae19c65e1c03b4aa3499c5328201f1"
  },
  "kernelspec": {
   "display_name": "Python 3.9.7 64-bit",
   "language": "python",
   "name": "python3"
  },
  "language_info": {
   "codemirror_mode": {
    "name": "ipython",
    "version": 3
   },
   "file_extension": ".py",
   "mimetype": "text/x-python",
   "name": "python",
   "nbconvert_exporter": "python",
   "pygments_lexer": "ipython3",
   "version": "3.9.7"
  },
  "orig_nbformat": 4
 },
 "nbformat": 4,
 "nbformat_minor": 2
}
