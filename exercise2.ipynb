{
 "cells": [
  {
   "cell_type": "markdown",
   "metadata": {},
   "source": [
    "# MLSD : Assignment 1"
   ]
  },
  {
   "cell_type": "markdown",
   "metadata": {},
   "source": [
    "### By: Alexandra de Carvalho, nmec 93346"
   ]
  },
  {
   "cell_type": "code",
   "execution_count": 1,
   "metadata": {},
   "outputs": [],
   "source": [
    "from pyspark import SparkContext\n",
    "import re\n",
    "import random"
   ]
  },
  {
   "cell_type": "code",
   "execution_count": 3,
   "metadata": {},
   "outputs": [
    {
     "name": "stderr",
     "output_type": "stream",
     "text": [
      "22/04/23 23:37:41 WARN Utils: Your hostname, jarvis resolves to a loopback address: 127.0.1.1; using 192.168.1.4 instead (on interface wlp4s0)\n",
      "22/04/23 23:37:41 WARN Utils: Set SPARK_LOCAL_IP if you need to bind to another address\n",
      "Using Spark's default log4j profile: org/apache/spark/log4j-defaults.properties\n",
      "Setting default log level to \"WARN\".\n",
      "To adjust logging level use sc.setLogLevel(newLevel). For SparkR, use setLogLevel(newLevel).\n",
      "22/04/23 23:37:52 WARN NativeCodeLoader: Unable to load native-hadoop library for your platform... using builtin-java classes where applicable\n"
     ]
    }
   ],
   "source": [
    "sc = SparkContext(appName=\"Assignment1\")"
   ]
  },
  {
   "cell_type": "markdown",
   "metadata": {},
   "source": [
    "# Exercise 2"
   ]
  },
  {
   "cell_type": "code",
   "execution_count": 40,
   "metadata": {},
   "outputs": [],
   "source": [
    "k = 3\n",
    "\n",
    "data = sc.textFile('dataset2/plot_summaries.txt')                                                                                # reading the dataset\n",
    "data = data.map(lambda plot: tuple(plot.split(\"\\t\")))                                                                            # (movie id, plot)\n",
    "data = data.map(lambda movie_plot: (movie_plot[0], re.sub(r'[^\\w\\s]', '', movie_plot[1].lower())))                               # removing punctuation and case-sensitiveness from plot\n",
    "data = data.map(lambda movie_plot: (movie_plot[0], movie_plot[1].split()))                                                       # (movie id, [list of words in plot]) \n",
    "data = data.map(lambda movie_plot: (movie_plot[0], {\" \".join(movie_plot[1][i:i+k]) for i in range(len(movie_plot[1])-k + 1)}))   # (movie id, {k-shingles})"
   ]
  },
  {
   "cell_type": "code",
   "execution_count": 41,
   "metadata": {},
   "outputs": [
    {
     "name": "stderr",
     "output_type": "stream",
     "text": [
      "                                                                                \r"
     ]
    }
   ],
   "source": [
    "data = sc.parallelize(data.take(100))"
   ]
  },
  {
   "cell_type": "code",
   "execution_count": 42,
   "metadata": {},
   "outputs": [
    {
     "name": "stderr",
     "output_type": "stream",
     "text": [
      "                                                                                \r"
     ]
    }
   ],
   "source": [
    "vocab = data.flatMap(lambda movie_shingles: movie_shingles[1]).distinct().collect()"
   ]
  },
  {
   "cell_type": "code",
   "execution_count": 43,
   "metadata": {},
   "outputs": [],
   "source": [
    "data = data.map(lambda movie_shingles: (movie_shingles[0], sorted([vocab.index(shingle) for shingle in movie_shingles[1]])))"
   ]
  },
  {
   "cell_type": "code",
   "execution_count": 44,
   "metadata": {},
   "outputs": [
    {
     "name": "stdout",
     "output_type": "stream",
     "text": [
      "7 23\n",
      "8 29\n",
      "9 37\n",
      "10 47\n",
      "11 59\n",
      "12 75\n",
      "13 94\n",
      "14 118\n",
      "15 148\n"
     ]
    },
    {
     "name": "stderr",
     "output_type": "stream",
     "text": [
      "[Stage 3:>                                                          (0 + 3) / 3]\r"
     ]
    }
   ],
   "source": [
    "for r in range(150):\n",
    "    for b in range (150):\n",
    "        if (1-(0.8**r))**b <= (0.5/100) and 1-(1-(0.4)**r)**b < 5/100:\n",
    "            print(r,b)\n",
    "            break"
   ]
  },
  {
   "cell_type": "code",
   "execution_count": 45,
   "metadata": {},
   "outputs": [],
   "source": [
    "b = 23\n",
    "r = 7\n",
    "n = b*r\n",
    "    \n",
    "hash_parameters = [(random.randint(1,n**2), random.randint(0,n**2)) for _ in range(n)]"
   ]
  },
  {
   "cell_type": "code",
   "execution_count": 46,
   "metadata": {},
   "outputs": [],
   "source": [
    "def get_signature(movie_shingleidx_signature:tuple):\n",
    "    signature = movie_shingleidx_signature[2]\n",
    "    for shingle in movie_shingleidx_signature[1]:\n",
    "        signature = [min(((hash_parameters[h_idx][0]*shingle + hash_parameters[h_idx][1])% 2147483647) % (2**16), signature[h_idx]) for h_idx in range(len(hash_parameters))]\n",
    "\n",
    "    return (movie_shingleidx_signature[0], signature)"
   ]
  },
  {
   "cell_type": "code",
   "execution_count": 47,
   "metadata": {},
   "outputs": [],
   "source": [
    "signatures = data.map(lambda movie_1hot: (movie_1hot[0], movie_1hot[1][1:], [((hash_parameters[h_idx][0]*movie_1hot[1][0] + hash_parameters[h_idx][1]) % 2147483647) % (2**16) for h_idx in range(len(hash_parameters))]))\n",
    "signatures = signatures.map(get_signature)"
   ]
  },
  {
   "cell_type": "code",
   "execution_count": 48,
   "metadata": {},
   "outputs": [],
   "source": [
    "documents_lsh = signatures.map(lambda movie_signature: (movie_signature[0], [movie_signature[1][i:i+int(r)] for i in range(0, len(movie_signature[1])-int(r), int(r))])) "
   ]
  },
  {
   "cell_type": "code",
   "execution_count": 49,
   "metadata": {},
   "outputs": [],
   "source": [
    "documents_lsh = documents_lsh.map(lambda x : (x[0], [hash(tuple(band)) % 1000 for band in x[1]]))"
   ]
  },
  {
   "cell_type": "code",
   "execution_count": 50,
   "metadata": {},
   "outputs": [
    {
     "name": "stderr",
     "output_type": "stream",
     "text": [
      "                                                                                \r"
     ]
    },
    {
     "data": {
      "text/plain": [
       "[('23890098',\n",
       "  [915,\n",
       "   959,\n",
       "   260,\n",
       "   435,\n",
       "   932,\n",
       "   439,\n",
       "   440,\n",
       "   451,\n",
       "   109,\n",
       "   155,\n",
       "   653,\n",
       "   633,\n",
       "   469,\n",
       "   582,\n",
       "   165,\n",
       "   40,\n",
       "   665,\n",
       "   189,\n",
       "   3,\n",
       "   218,\n",
       "   714,\n",
       "   164])]"
      ]
     },
     "execution_count": 50,
     "metadata": {},
     "output_type": "execute_result"
    }
   ],
   "source": [
    "documents_lsh.take(1)"
   ]
  },
  {
   "cell_type": "code",
   "execution_count": 51,
   "metadata": {},
   "outputs": [
    {
     "name": "stderr",
     "output_type": "stream",
     "text": [
      "                                                                                \r"
     ]
    }
   ],
   "source": [
    "candidat_pairs = documents_lsh.collect()"
   ]
  },
  {
   "cell_type": "code",
   "execution_count": 52,
   "metadata": {},
   "outputs": [],
   "source": [
    "c_pairs = set()"
   ]
  },
  {
   "cell_type": "code",
   "execution_count": 53,
   "metadata": {},
   "outputs": [
    {
     "name": "stderr",
     "output_type": "stream",
     "text": [
      "[Stage 3:>                                                          (0 + 3) / 3]\r"
     ]
    }
   ],
   "source": [
    "for mov_list1 in candidat_pairs:\n",
    "    for mov_list2 in candidat_pairs:\n",
    "        if mov_list2 != mov_list1 and (mov_list1[0],mov_list2[0]) not in c_pairs:\n",
    "            if any(v1 == v2 for (v1,v2) in zip(mov_list1[1],mov_list2[1])):\n",
    "                c_pairs = c_pairs | {(mov_list2[0], mov_list1[0])}"
   ]
  },
  {
   "cell_type": "code",
   "execution_count": 54,
   "metadata": {},
   "outputs": [],
   "source": [
    "def jaccard(x,y):\n",
    "    x = set(x)\n",
    "    y = set(y)\n",
    "    return len(x & y) / len(x | y)"
   ]
  },
  {
   "cell_type": "code",
   "execution_count": 66,
   "metadata": {},
   "outputs": [],
   "source": [
    "def get_similar_movie(moviename):\n",
    "    res = []\n",
    "    similar_movies = [item[0] if item[1] == moviename else item[1] for item in c_pairs if moviename in item]\n",
    "    movie_shingles = signatures.filter(lambda movie_sig: movie_sig[0] == moviename).take(1)[0][1]\n",
    "    others_shingles = dict(signatures.filter(lambda movie_shingles : movie_shingles[0] in similar_movies).collect())\n",
    "    for movie,shingles in others_shingles.items():\n",
    "        jac_sim = jaccard(movie_shingles, shingles)\n",
    "        if jac_sim > 0.8 and jac_sim < 0.98:\n",
    "            res += [movie]\n",
    "    return res"
   ]
  },
  {
   "cell_type": "code",
   "execution_count": 67,
   "metadata": {},
   "outputs": [
    {
     "name": "stderr",
     "output_type": "stream",
     "text": [
      "[Stage 3:>                  (0 + 3) / 3][Stage 27:==============> (11 + 1) / 12]\r"
     ]
    },
    {
     "name": "stdout",
     "output_type": "stream",
     "text": [
      "0.01532567049808429\n",
      "0.00816326530612245\n",
      "0.014388489208633094\n",
      "[]\n"
     ]
    },
    {
     "name": "stderr",
     "output_type": "stream",
     "text": [
      "[Stage 3:>                                                          (0 + 3) / 3]\r"
     ]
    }
   ],
   "source": [
    "print(get_similar_movie('23890098'))"
   ]
  },
  {
   "cell_type": "markdown",
   "metadata": {},
   "source": [
    "# 2.3"
   ]
  },
  {
   "cell_type": "code",
   "execution_count": 69,
   "metadata": {},
   "outputs": [
    {
     "name": "stderr",
     "output_type": "stream",
     "text": [
      "[Stage 3:>                                                          (0 + 3) / 3]\r"
     ]
    },
    {
     "name": "stdout",
     "output_type": "stream",
     "text": [
      "4950\n",
      "% of false positives: 0.0\n",
      "% of false positives: 0.0\n"
     ]
    },
    {
     "name": "stderr",
     "output_type": "stream",
     "text": [
      "[Stage 3:>                                                          (0 + 3) / 3]\r"
     ]
    }
   ],
   "source": [
    "s = dict(signatures.collect())\n",
    "\n",
    "seen_pairs = []\n",
    "fps = 0\n",
    "fns = 0\n",
    "for m1,shingles1 in s.items():\n",
    "    for m2,shingles2 in s.items():\n",
    "        if shingles1 != shingles2 and {m2,m1} not in seen_pairs:\n",
    "            seen_pairs += [{m1,m2}]\n",
    "            jac_sim = jaccard(shingles1, shingles2)\n",
    "            if jac_sim > 0.8 and jac_sim < 0.98 and {m1,m2} not in c_pairs:\n",
    "                fps += 1\n",
    "            elif jac_sim < 0.8 and {m1,m2} in c_pairs:\n",
    "                fns += 1\n",
    "            \n",
    "print(\"% of false positives:\",fps/len(seen_pairs))\n",
    "print(\"% of false positives:\",fns/len(seen_pairs))"
   ]
  }
 ],
 "metadata": {
  "interpreter": {
   "hash": "916dbcbb3f70747c44a77c7bcd40155683ae19c65e1c03b4aa3499c5328201f1"
  },
  "kernelspec": {
   "display_name": "Python 3.9.7 64-bit",
   "language": "python",
   "name": "python3"
  },
  "language_info": {
   "codemirror_mode": {
    "name": "ipython",
    "version": 3
   },
   "file_extension": ".py",
   "mimetype": "text/x-python",
   "name": "python",
   "nbconvert_exporter": "python",
   "pygments_lexer": "ipython3",
   "version": "3.9.7"
  },
  "orig_nbformat": 4
 },
 "nbformat": 4,
 "nbformat_minor": 2
}
